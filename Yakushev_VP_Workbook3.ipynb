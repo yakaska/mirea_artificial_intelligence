{
 "cells": [
  {
   "cell_type": "markdown",
   "source": [
    "Постановка задачи классификации\n",
    "Классификация — один из разделов машинного обучения,\n",
    "посвященный решению следующей задачи. Имеется множество объектов\n",
    "(ситуаций), разделённых некоторым образом на классы. Задано конечное\n",
    "множество объектов, для которых известно, к каким классам они относятся.\n",
    "Это множество называется обучающей выборкой. Классовая\n",
    "принадлежность остальных объектов не известна. Требуется построить\n",
    "алгоритм, способный классифицировать произвольный объект из исходного\n",
    "множества.\n",
    "Классифицировать объект — значит, указать номер (или\n",
    "наименование класса), к которому относится данный объект.\n",
    "Классификация объекта — номер или наименование класса,\n",
    "выдаваемый алгоритмом классификации в результате его применения к\n",
    "данному конкретному объекту.\n"
   ],
   "metadata": {
    "collapsed": false
   }
  },
  {
   "cell_type": "markdown",
   "source": [
    "1.1. Теоретический материал – Функции Python\n",
    "Перед тем как рассматривать задачи классификации вспомним\n",
    "понятие функции (метода) в Python. Функция в python - объект,\n",
    "принимающий аргументы и возвращающий значение. Обычно функция\n",
    "определяется с помощью инструкции `def`.\n",
    "Определим простейшую функцию:\n",
    "def add(x, y):\n",
    " return x + y\n",
    "Инструкция return говорит, что нужно вернуть значение. В нашем\n",
    "случае функция возвращает сумму x и y. Теперь мы ее можем вызвать:\n",
    "add(1, 10)\n",
    "add('abc', 'def')\n",
    "'abcdef'\n",
    "Функция может быть любой сложности и возвращать любые объекты\n",
    "(списки, кортежи, и даже функции):\n",
    "def newfunc(n):\n",
    " def myfunc(x):\n",
    " return x + n\n",
    " return myfunc\n",
    "new = newfunc(100) # new - это функция\n",
    "new(200)\n",
    "300\n",
    "Функция может и не заканчиваться инструкцией return, при этом\n",
    "функция вернет значение None:\n",
    "def func():\n",
    " pass\n",
    "print(func())\n",
    "None\n",
    "Функция может принимать произвольное количество аргументов или\n",
    "не принимать их вовсе. Также распространены функции с произвольным\n",
    "числом аргументов, функции с позиционными и именованными\n",
    "аргументами, обязательными и необязательными.\n",
    "def func(*args):\n",
    " return args\n",
    "func(1, 2, 3, 'abc')\n",
    "(1, 2, 3, 'abc')\n",
    "func()\n",
    "()\n",
    "func(1)\n",
    "(1,)\n",
    "Как видно из примера, args - это кортеж из всех переданных\n",
    "аргументов функции, и с переменной можно работать также, как и с\n",
    "кортежем.\n",
    "Функция может принимать и произвольное число именованных\n",
    "аргументов, тогда перед именем ставится **:\n",
    "def func(**kwargs):\n",
    " return kwargs\n",
    "func(a=1, b=2, c=3)\n",
    "{'a': 1, 'c': 3, 'b': 2}\n",
    "func()\n",
    "{}\n",
    "func(a='python')\n",
    "{'a': 'python'}"
   ],
   "metadata": {
    "collapsed": false
   }
  },
  {
   "cell_type": "markdown",
   "source": [
    "1.2.1 Пример\n",
    "Напишите функцию sum_range(start, end), которая суммирует все целые\n",
    "числа от значения «start» до величины «end» включительно.\n",
    "Если пользователь задаст первое число большее чем второе, просто\n",
    "поменяйте их местами."
   ],
   "metadata": {
    "collapsed": false
   }
  },
  {
   "cell_type": "code",
   "execution_count": null,
   "outputs": [],
   "source": [
    "import itertools\n",
    "\n",
    "\n",
    "def sum_range(start, end):\n",
    "    if start > end:\n",
    "        end, start = start, end\n",
    "    return sum(range(start, end + 1))\n",
    "\n",
    "\n",
    "print(sum_range(2, 12))\n",
    "print(sum_range(-4, 4))\n",
    "print(sum_range(3, 2))"
   ],
   "metadata": {
    "collapsed": false
   }
  },
  {
   "cell_type": "markdown",
   "source": [
    "1.2.2 Пример\n",
    "Напишите рекурсивную функцию вычисления факториала на языке\n",
    "Python."
   ],
   "metadata": {
    "collapsed": false
   }
  },
  {
   "cell_type": "code",
   "execution_count": null,
   "outputs": [],
   "source": [
    "def fact(num):\n",
    "    if num == 0:\n",
    "        return 1\n",
    "    else:\n",
    "        return num * fact(num - 1)\n",
    "\n",
    "\n",
    "print(fact(5))"
   ],
   "metadata": {
    "collapsed": false
   }
  },
  {
   "cell_type": "markdown",
   "source": [
    "1.1. Теоретический материал – Расстояние между объектами\n",
    "класса\n",
    "Определение расстояния между объектами класса\n",
    "Сходство или различие между объектами классификации\n",
    "устанавливается в зависимости от выбранного метрического расстояния\n",
    "между ними. Если каждый объект описывается n свойствами (признаками),\n",
    "то он может быть представлен как точка в n-мерном пространстве, и\n",
    "сходство с другими объектами будет определяться как соответствующее\n",
    "расстояние. При классификации используются различные меры расстояния\n",
    "между объектами.\n",
    "1. Евклидово расстояние\n",
    "Это, пожалуй, наиболее часто используемая мера расстояния. Она\n",
    "является геометрическим расстоянием в многомерном пространстве и\n",
    "вычисляется следующим образом:\n",
    "где\n",
    " 𝑃 – расстояние между объектами A и B;\n",
    " 𝐴𝑖 – значение i-свойства объекта A;\n",
    " 𝐵𝑖 – значение i-свойства объекта B.\n",
    "2. Квадрат евклидова расстояния\n",
    "Данная мера расстояния используется в тех случаях, когда требуется\n",
    "придать больше значение более отдаленным друг от друга объектам. Это\n",
    "расстояние вычисляется следующим образом:\n",
    "3. Взвешенное евклидово расстояние\n",
    "Применяется в тех случаях, когда каждому i-свойству удается приписать\n",
    "некоторый «вес» wi, пропорционально степени важности признака в задаче\n",
    "классификации:\n",
    "4. Хеммингово расстояние\n",
    "Также называется манхэттенским, сити-блок расстоянием или расстоянием\n",
    "городских кварталов. Это расстояние является разностью по координатам.\n",
    "Хеммингово расстояние вычисляется по формуле:\n",
    "5. Расстояние Чебышева\n",
    "Принимает значение наибольшего модуля разности между значениями\n",
    "соответствующих свойств (признаков) объектов:\n",
    "Выбор меры расстояния и весов для классифицирующих свойств –\n",
    "очень важный этап, так как от этих процедур зависят состав и количество\n",
    "формируемых классов, а также степень сходства объектов внутри классов."
   ],
   "metadata": {
    "collapsed": false
   }
  },
  {
   "cell_type": "markdown",
   "source": [
    "1.2.3 Пример\n",
    "Напишите функции в Python, которая вычисляет Евклидово расстояние\n",
    "между двумя массивами NumPy."
   ],
   "metadata": {
    "collapsed": false
   }
  },
  {
   "cell_type": "code",
   "execution_count": null,
   "outputs": [],
   "source": [
    "import numpy as np\n",
    "\n",
    "\n",
    "def euclidean_distance(v1, v2):\n",
    "    return sum((x - y) ** 2 for x, y in zip(v1, v2)) ** 0.5\n",
    "\n",
    "\n",
    "x = np.array([0, 0, 0])\n",
    "y = np.array([3, 3, 3])\n",
    "print(euclidean_distance(x, y))"
   ],
   "metadata": {
    "collapsed": false
   }
  },
  {
   "cell_type": "markdown",
   "source": [
    "1.2.4 Пример\n",
    "Напишите 4 функции в Python, которые рассчитывают квадрат Евклидова\n",
    "расстояния, взвешенное евклидово расстояние, Хеммингово расстояние и\n",
    "расстояние Чебышева между двумя массивами NumPy."
   ],
   "metadata": {
    "collapsed": false
   }
  },
  {
   "cell_type": "code",
   "execution_count": null,
   "outputs": [],
   "source": [
    "def sqr_euclidean_distance(v1, v2):\n",
    "    return sum((x - y) ** 2 for x, y in zip(v1, v2))\n",
    "\n",
    "\n",
    "def weighted_euclidean_distance(v1, v2, w):\n",
    "    return sum((x - y) ** 2 * s for x, y, s in zip(v1, v2, w)) ** 0.5\n",
    "\n",
    "\n",
    "def manhattan_distance(v1, v2):\n",
    "    return sum(abs(x - y) for (x, y) in zip(v1, v2))\n",
    "\n",
    "\n",
    "def chebyshev_distance(v1, v2):\n",
    "    return max(abs(x - y) for (x, y) in zip(v1, v2))\n",
    "\n",
    "\n",
    "x = np.array([0, 0, 0])\n",
    "y = np.array([3, 3, 3])\n",
    "w = np.array([0, 0, 1])\n",
    "\n",
    "print(sqr_euclidean_distance(x, y))\n",
    "print(weighted_euclidean_distance(x, y, w))\n",
    "print(manhattan_distance(x, y))\n",
    "print(chebyshev_distance(x, y))"
   ],
   "metadata": {
    "collapsed": false
   }
  },
  {
   "cell_type": "markdown",
   "source": [
    "1.2.5 Пример\n",
    "В Python есть встроенные функции для вычисления расстояний между\n",
    "векторами. Мы будем использовать NumPy для расчета расстояния для\n",
    "двух точек, поскольку ранее рассмотренные структуры данных могут быть\n",
    "переведены в Numpy массив с помощью специальных функции.\n",
    "Например, для серий это будет выглядеть следующим образом:\n",
    "seriesName.to_numpy().\n",
    "Для удобства визуализации и анализа результатов в дальнейших расчетах\n",
    "будем использовать 2 точки в 3-х мерном пространстве:"
   ],
   "metadata": {
    "collapsed": false
   }
  },
  {
   "cell_type": "code",
   "execution_count": null,
   "outputs": [],
   "source": [
    "from matplotlib import pyplot as plt\n",
    "\n",
    "fig = plt.figure()\n",
    "ax = fig.add_subplot(111, projection='3d')\n",
    "\n",
    "ax.scatter(0, 0, 0)\n",
    "ax.scatter(3, 3, 3)\n",
    "plt.show()"
   ],
   "metadata": {
    "collapsed": false
   }
  },
  {
   "cell_type": "markdown",
   "source": [
    "1.2.6 Пример\n",
    "Рассчитать расстояния между двумя точками с использованием методов\n",
    "определения расстояний, представленных выше."
   ],
   "metadata": {
    "collapsed": false
   }
  },
  {
   "cell_type": "code",
   "execution_count": null,
   "outputs": [],
   "source": [
    "print(np.linalg.norm(x - y))\n",
    "print(np.linalg.norm(x - y) ** 2)\n",
    "print(np.linalg.norm(x - y, ord=np.inf))\n",
    "print(np.linalg.norm(x - y, ord=1))"
   ],
   "metadata": {
    "collapsed": false
   }
  },
  {
   "cell_type": "code",
   "execution_count": null,
   "outputs": [],
   "source": [
    "import itertools\n",
    "\n",
    "\n",
    "def count_distance(x, y):\n",
    "    print(f'Евклидово между {x}, {y}:', np.linalg.norm(x - y))\n",
    "    print(f'Квадрат Евклидова между {x}, {y}:', np.linalg.norm(x - y) ** 2)\n",
    "    print(f'Чебышева между {x}, {y}:', np.linalg.norm(x - y, ord=np.inf))\n",
    "    print(f'Хемминга между {x}, {y}:', np.linalg.norm(x - y, ord=1))\n",
    "    print('#' * 10)\n",
    "\n",
    "\n",
    "a = np.array([0, 0, 0])\n",
    "b = np.array([1, 1, 1])\n",
    "c = np.array([1, 0, 1])\n",
    "d = np.array([0, 1, 0])\n",
    "\n",
    "combos = itertools.combinations([a, b, c, d], 2)\n",
    "for combo in combos:\n",
    "    count_distance(combo[0], combo[1])\n",
    "\n",
    "fig = plt.figure()\n",
    "ax = fig.add_subplot(111, projection='3d')\n",
    "ax.scatter(*a)\n",
    "ax.scatter(*b)\n",
    "ax.scatter(*c)\n",
    "ax.scatter(*d)\n",
    "plt.show()"
   ],
   "metadata": {
    "collapsed": false
   }
  },
  {
   "cell_type": "markdown",
   "source": [
    "1.3.2 Задание\n",
    "Создать 5x5 матрицу со значениями в строках от 0 до 4. Для создания\n",
    "необходимо использовать функцию arange."
   ],
   "metadata": {
    "collapsed": false
   }
  },
  {
   "cell_type": "code",
   "execution_count": null,
   "outputs": [],
   "source": [
    "Z = np.zeros((5, 5))\n",
    "Z += np.arange(5)\n",
    "print(Z)"
   ],
   "metadata": {
    "collapsed": false
   }
  },
  {
   "cell_type": "markdown",
   "source": [
    "2.1. Теоретический материал – Задачи классификации\n",
    "Решение задачи классификации методом k ближайших соседей\n",
    "Метод k-ближайших соседей используется для решения задачи\n",
    "классификации. Он относит объекты к классу, которому принадлежит\n",
    "большинство из k его ближайших соседей в многомерном пространстве\n",
    "признаков. Это один из простейших алгоритмов обучения\n",
    "классификационных моделей. Число k – это количество соседних объектов\n",
    "в пространстве признаков, которые сравниваются с классифицируемым\n",
    "объектом. Иными словами, если k=10, то каждый объект сравнивается с 10-\n",
    "ю соседями. В процессе обучения алгоритм просто запоминает все векторы\n",
    "признаков и соответствующие им метки классов. При работе с реальными\n",
    "данными, т.е. наблюдениями, метки класса которых неизвестны,\n",
    "вычисляется расстояние между вектором нового наблюдения и ранее\n",
    "запомненными. Затем выбирается k ближайших к нему векторов, и новый\n",
    "объект относится к классу, которому принадлежит большинство из них.\n",
    "Приведем алгоритм метода.\n",
    "1. Выберите значение K соседей (скажем, k = 5)\n",
    "2. Найдите ближайшую точку данных K (5) для нашей новой точки\n",
    "данных на основе евклидова расстояния (которое мы обсудим позже)\n",
    "3. Среди этих K точек данных подсчитайте точки данных в каждой\n",
    "категории.\n",
    "4. Назначьте новую точку данных категории, которая имеет наибольшее\n",
    "количество соседей с новой точкой данных\n",
    "Модуль библиотеки sklearn - sklearn.neighbors предоставляет\n",
    "функциональные возможности для контролируемого обучения на основе\n",
    "соседей. Обучение на основе контролируемых соседей бывает двух видов:\n",
    "классификация данных с дискретными метками и регрессия для данных с\n",
    "непрерывными метками. В данном разделе рассмотрим несколько примеров\n",
    "с использованием названного метода."
   ],
   "metadata": {
    "collapsed": false
   }
  },
  {
   "cell_type": "markdown",
   "source": [
    "2.2.1 Пример\n",
    "В примере показано создание 2d-массива со значениями x и y. Список\n",
    "target содержит возможные выходные классы (часто называемые\n",
    "метками). Далее происходит обучение классификатора k-ближайших\n",
    "соседей по исходным данным. Далее производится прогноз\n",
    "принадлежности к классам для двух точек данных"
   ],
   "metadata": {
    "collapsed": false
   }
  },
  {
   "cell_type": "code",
   "execution_count": null,
   "outputs": [],
   "source": [
    "from sklearn.neighbors import KNeighborsClassifier\n",
    "import numpy as np\n",
    "\n",
    "X = np.array([[-1, -1], [-2, -1], [-3, -2], [1, 1], [2, 1], [3, 2]])\n",
    "target = [0, 0, 0, 1, 1, 1]\n",
    "K = 3\n",
    "model = KNeighborsClassifier(n_neighbors=K)\n",
    "model.fit(X, target)\n",
    "print(model)\n",
    "\n",
    "print('(-2,-2) is class', model.predict([[-2, -2]]))\n",
    "print('(1,3) is class', model.predict([[1, 3]]))"
   ],
   "metadata": {
    "collapsed": false
   }
  },
  {
   "cell_type": "markdown",
   "source": [
    "2.2.2 Пример\n",
    "Далее приведем более наглядный пример. Будет построена граница\n",
    "решения для каждого класса. В качестве данных будем использовать уже\n",
    "знакомый нам и встроенный в библиотеку sklearn набор данных ирисов\n",
    "Фишера. Этот набор данных стал уже классическим, и часто используется\n",
    "в литературе для иллюстрации работы различных статистических\n",
    "алгоритмов. Датасет содержит наблюдения за 150 разными цветками\n",
    "ирисов, данные по каждому цветку расположены в строках. В стобцах\n",
    "записаны длина и ширина чашелистика, длина и ширина лепестка, вид\n",
    "ириса"
   ],
   "metadata": {
    "collapsed": false
   }
  },
  {
   "cell_type": "code",
   "execution_count": null,
   "outputs": [],
   "source": [
    "from sklearn.neighbors import KNeighborsClassifier\n",
    "import seaborn as sns\n",
    "\n",
    "iris = sns.load_dataset('iris')\n",
    "iris"
   ],
   "metadata": {
    "collapsed": false
   }
  },
  {
   "cell_type": "markdown",
   "source": [
    "2.2.3 Пример\n",
    "Покажем на графиках зависимости ширины лепестка от его длины, а также\n",
    "аналогичный график зависимость для длины и ширины чашелистика.\n",
    "Разные виды цветков отмечены разными цветами."
   ],
   "metadata": {
    "collapsed": false
   }
  },
  {
   "cell_type": "code",
   "execution_count": null,
   "outputs": [],
   "source": [
    "plt.figure(figsize=(16, 7))\n",
    "plt.subplot(121)\n",
    "sns.scatterplot(\n",
    "    data=iris,\n",
    "    x='petal_width', y='petal_length',\n",
    "    hue='species',\n",
    "    s=70\n",
    ")\n",
    "plt.xlabel('Длина лепестка, см')\n",
    "plt.ylabel('Ширина лепестка, см')\n",
    "plt.legend()\n",
    "plt.grid()\n",
    "\n",
    "plt.subplot(122)\n",
    "sns.scatterplot(\n",
    "    data=iris,\n",
    "    x='sepal_width', y='sepal_length',\n",
    "    hue='species',\n",
    "    s=70\n",
    ")\n",
    "plt.xlabel('Длина чашелистика, см')\n",
    "plt.ylabel('Ширина чашелистика, см')\n",
    "plt.legend()\n",
    "plt.grid()"
   ],
   "metadata": {
    "collapsed": false
   }
  },
  {
   "cell_type": "markdown",
   "source": [
    "2.2.4 Пример\n",
    "Из графиков видно, что в первом случае классы визуально хорошо\n",
    "отделимы друг от друга, хотя два классе имеют небольшое пересечение.\n",
    "Во втором случае разделить два класса между собой уже намного труднее.\n",
    "Далее разделим датасет на обучающую и тестовую выборки в\n",
    "соотношении 80:20. Обучающая выборка (training sample) — выборка, по\n",
    "которой производится настройка (оптимизация параметров) модели\n",
    "зависимости. Тестовая (или контрольная) выборка (test sample) —\n",
    "выборка, по которой оценивается качество построенной модели."
   ],
   "metadata": {
    "collapsed": false
   }
  },
  {
   "cell_type": "code",
   "execution_count": 64,
   "outputs": [
    {
     "data": {
      "text/plain": "((120, 4), (30, 4), (120,), (30,))"
     },
     "execution_count": 64,
     "metadata": {},
     "output_type": "execute_result"
    }
   ],
   "source": [
    "from sklearn.model_selection import train_test_split\n",
    "\n",
    "x_train, x_test, y_train, y_test = train_test_split(\n",
    "    iris.iloc[:, :-1],\n",
    "    iris.iloc[:, -1],\n",
    "    test_size=0.20\n",
    ")\n",
    "x_train.shape, x_test.shape, y_train.shape, y_test.shape"
   ],
   "metadata": {
    "collapsed": false
   }
  },
  {
   "cell_type": "code",
   "execution_count": 63,
   "outputs": [
    {
     "data": {
      "text/plain": "    sepal_length  sepal_width  petal_length  petal_width\n49           5.0          3.3           1.4          0.2\n97           6.2          2.9           4.3          1.3\n56           6.3          3.3           4.7          1.6\n39           5.1          3.4           1.5          0.2\n92           5.8          2.6           4.0          1.2",
      "text/html": "<div>\n<style scoped>\n    .dataframe tbody tr th:only-of-type {\n        vertical-align: middle;\n    }\n\n    .dataframe tbody tr th {\n        vertical-align: top;\n    }\n\n    .dataframe thead th {\n        text-align: right;\n    }\n</style>\n<table border=\"1\" class=\"dataframe\">\n  <thead>\n    <tr style=\"text-align: right;\">\n      <th></th>\n      <th>sepal_length</th>\n      <th>sepal_width</th>\n      <th>petal_length</th>\n      <th>petal_width</th>\n    </tr>\n  </thead>\n  <tbody>\n    <tr>\n      <th>49</th>\n      <td>5.0</td>\n      <td>3.3</td>\n      <td>1.4</td>\n      <td>0.2</td>\n    </tr>\n    <tr>\n      <th>97</th>\n      <td>6.2</td>\n      <td>2.9</td>\n      <td>4.3</td>\n      <td>1.3</td>\n    </tr>\n    <tr>\n      <th>56</th>\n      <td>6.3</td>\n      <td>3.3</td>\n      <td>4.7</td>\n      <td>1.6</td>\n    </tr>\n    <tr>\n      <th>39</th>\n      <td>5.1</td>\n      <td>3.4</td>\n      <td>1.5</td>\n      <td>0.2</td>\n    </tr>\n    <tr>\n      <th>92</th>\n      <td>5.8</td>\n      <td>2.6</td>\n      <td>4.0</td>\n      <td>1.2</td>\n    </tr>\n  </tbody>\n</table>\n</div>"
     },
     "execution_count": 63,
     "metadata": {},
     "output_type": "execute_result"
    }
   ],
   "source": [
    "x_train.head()"
   ],
   "metadata": {
    "collapsed": false
   }
  },
  {
   "cell_type": "code",
   "execution_count": 62,
   "outputs": [
    {
     "data": {
      "text/plain": "49        setosa\n97    versicolor\n56    versicolor\n39        setosa\n92    versicolor\nName: species, dtype: object"
     },
     "execution_count": 62,
     "metadata": {},
     "output_type": "execute_result"
    }
   ],
   "source": [
    "y_train.head()"
   ],
   "metadata": {
    "collapsed": false
   }
  },
  {
   "cell_type": "code",
   "execution_count": 61,
   "outputs": [
    {
     "data": {
      "text/plain": "KNeighborsClassifier(n_neighbors=3)",
      "text/html": "<style>#sk-container-id-3 {color: black;background-color: white;}#sk-container-id-3 pre{padding: 0;}#sk-container-id-3 div.sk-toggleable {background-color: white;}#sk-container-id-3 label.sk-toggleable__label {cursor: pointer;display: block;width: 100%;margin-bottom: 0;padding: 0.3em;box-sizing: border-box;text-align: center;}#sk-container-id-3 label.sk-toggleable__label-arrow:before {content: \"▸\";float: left;margin-right: 0.25em;color: #696969;}#sk-container-id-3 label.sk-toggleable__label-arrow:hover:before {color: black;}#sk-container-id-3 div.sk-estimator:hover label.sk-toggleable__label-arrow:before {color: black;}#sk-container-id-3 div.sk-toggleable__content {max-height: 0;max-width: 0;overflow: hidden;text-align: left;background-color: #f0f8ff;}#sk-container-id-3 div.sk-toggleable__content pre {margin: 0.2em;color: black;border-radius: 0.25em;background-color: #f0f8ff;}#sk-container-id-3 input.sk-toggleable__control:checked~div.sk-toggleable__content {max-height: 200px;max-width: 100%;overflow: auto;}#sk-container-id-3 input.sk-toggleable__control:checked~label.sk-toggleable__label-arrow:before {content: \"▾\";}#sk-container-id-3 div.sk-estimator input.sk-toggleable__control:checked~label.sk-toggleable__label {background-color: #d4ebff;}#sk-container-id-3 div.sk-label input.sk-toggleable__control:checked~label.sk-toggleable__label {background-color: #d4ebff;}#sk-container-id-3 input.sk-hidden--visually {border: 0;clip: rect(1px 1px 1px 1px);clip: rect(1px, 1px, 1px, 1px);height: 1px;margin: -1px;overflow: hidden;padding: 0;position: absolute;width: 1px;}#sk-container-id-3 div.sk-estimator {font-family: monospace;background-color: #f0f8ff;border: 1px dotted black;border-radius: 0.25em;box-sizing: border-box;margin-bottom: 0.5em;}#sk-container-id-3 div.sk-estimator:hover {background-color: #d4ebff;}#sk-container-id-3 div.sk-parallel-item::after {content: \"\";width: 100%;border-bottom: 1px solid gray;flex-grow: 1;}#sk-container-id-3 div.sk-label:hover label.sk-toggleable__label {background-color: #d4ebff;}#sk-container-id-3 div.sk-serial::before {content: \"\";position: absolute;border-left: 1px solid gray;box-sizing: border-box;top: 0;bottom: 0;left: 50%;z-index: 0;}#sk-container-id-3 div.sk-serial {display: flex;flex-direction: column;align-items: center;background-color: white;padding-right: 0.2em;padding-left: 0.2em;position: relative;}#sk-container-id-3 div.sk-item {position: relative;z-index: 1;}#sk-container-id-3 div.sk-parallel {display: flex;align-items: stretch;justify-content: center;background-color: white;position: relative;}#sk-container-id-3 div.sk-item::before, #sk-container-id-3 div.sk-parallel-item::before {content: \"\";position: absolute;border-left: 1px solid gray;box-sizing: border-box;top: 0;bottom: 0;left: 50%;z-index: -1;}#sk-container-id-3 div.sk-parallel-item {display: flex;flex-direction: column;z-index: 1;position: relative;background-color: white;}#sk-container-id-3 div.sk-parallel-item:first-child::after {align-self: flex-end;width: 50%;}#sk-container-id-3 div.sk-parallel-item:last-child::after {align-self: flex-start;width: 50%;}#sk-container-id-3 div.sk-parallel-item:only-child::after {width: 0;}#sk-container-id-3 div.sk-dashed-wrapped {border: 1px dashed gray;margin: 0 0.4em 0.5em 0.4em;box-sizing: border-box;padding-bottom: 0.4em;background-color: white;}#sk-container-id-3 div.sk-label label {font-family: monospace;font-weight: bold;display: inline-block;line-height: 1.2em;}#sk-container-id-3 div.sk-label-container {text-align: center;}#sk-container-id-3 div.sk-container {/* jupyter's `normalize.less` sets `[hidden] { display: none; }` but bootstrap.min.css set `[hidden] { display: none !important; }` so we also need the `!important` here to be able to override the default hidden behavior on the sphinx rendered scikit-learn.org. See: https://github.com/scikit-learn/scikit-learn/issues/21755 */display: inline-block !important;position: relative;}#sk-container-id-3 div.sk-text-repr-fallback {display: none;}</style><div id=\"sk-container-id-3\" class=\"sk-top-container\"><div class=\"sk-text-repr-fallback\"><pre>KNeighborsClassifier(n_neighbors=3)</pre><b>In a Jupyter environment, please rerun this cell to show the HTML representation or trust the notebook. <br />On GitHub, the HTML representation is unable to render, please try loading this page with nbviewer.org.</b></div><div class=\"sk-container\" hidden><div class=\"sk-item\"><div class=\"sk-estimator sk-toggleable\"><input class=\"sk-toggleable__control sk-hidden--visually\" id=\"sk-estimator-id-3\" type=\"checkbox\" checked><label for=\"sk-estimator-id-3\" class=\"sk-toggleable__label sk-toggleable__label-arrow\">KNeighborsClassifier</label><div class=\"sk-toggleable__content\"><pre>KNeighborsClassifier(n_neighbors=3)</pre></div></div></div></div></div>"
     },
     "execution_count": 61,
     "metadata": {},
     "output_type": "execute_result"
    }
   ],
   "source": [
    "model = KNeighborsClassifier(n_neighbors=3)\n",
    "model.fit(x_train, y_train)"
   ],
   "metadata": {
    "collapsed": false
   }
  },
  {
   "cell_type": "code",
   "execution_count": 60,
   "outputs": [
    {
     "data": {
      "text/plain": "array(['setosa', 'versicolor', 'setosa', 'versicolor', 'versicolor',\n       'virginica', 'setosa', 'setosa', 'versicolor', 'virginica',\n       'virginica', 'versicolor', 'setosa', 'versicolor', 'versicolor',\n       'setosa', 'versicolor', 'setosa', 'virginica', 'versicolor',\n       'virginica', 'setosa', 'virginica', 'virginica', 'versicolor',\n       'virginica', 'versicolor', 'setosa', 'versicolor', 'setosa'],\n      dtype=object)"
     },
     "execution_count": 60,
     "metadata": {},
     "output_type": "execute_result"
    }
   ],
   "source": [
    "y_pred = model.predict(x_test)\n",
    "y_pred"
   ],
   "metadata": {
    "collapsed": false
   }
  },
  {
   "cell_type": "code",
   "execution_count": null,
   "outputs": [],
   "source": [
    "plt.figure(figsize=(10, 7))\n",
    "sns.scatterplot(\n",
    "    data=iris,\n",
    "    x='petal_width', y='petal_length',\n",
    "    hue='species',\n",
    "    s=70\n",
    ")\n",
    "plt.xlabel('Длина лепестка, см')\n",
    "plt.ylabel('Ширина лепестка, см')\n",
    "plt.legend(loc=2)\n",
    "plt.grid()\n",
    "\n",
    "for i in range(len(y_test)):\n",
    "    if np.array(y_test)[i] != y_pred[i]:\n",
    "        plt.scatter(x_test.iloc[i, 3], x_test.iloc[i, 2], color='red', s=150)"
   ],
   "metadata": {
    "collapsed": false
   }
  },
  {
   "cell_type": "code",
   "execution_count": 59,
   "outputs": [
    {
     "name": "stdout",
     "output_type": "stream",
     "text": [
      "accuracy: 0.967\n"
     ]
    }
   ],
   "source": [
    "from sklearn.metrics import accuracy_score\n",
    "\n",
    "print(f'accuracy: {accuracy_score(y_test, y_pred) :.3}')"
   ],
   "metadata": {
    "collapsed": false
   }
  },
  {
   "cell_type": "markdown",
   "source": [
    "2.3.1 Задание\n",
    "Для предыдущего примера поэкспериментируйте с параметрами\n",
    "классификатора:\n",
    "1. Установите другое количество ближайших соседей (k = 1, 5, 10).\n",
    "2. Установите размер тестовой выборки 15% от всего датасета.\n",
    "3. Постройте графики и оцените качество моделей, проанализируйте\n",
    "результаты."
   ],
   "metadata": {
    "collapsed": false
   }
  },
  {
   "cell_type": "code",
   "execution_count": 66,
   "outputs": [
    {
     "name": "stdout",
     "output_type": "stream",
     "text": [
      "accuracy: 0.967\n"
     ]
    },
    {
     "data": {
      "text/plain": "<Figure size 1000x700 with 1 Axes>",
      "image/png": "[encoded data removed]"
     },
     "metadata": {},
     "output_type": "display_data"
    }
   ],
   "source": [
    "from sklearn.model_selection import train_test_split\n",
    "from sklearn.metrics import accuracy_score\n",
    "\n",
    "x_train, x_test, y_train, y_test = train_test_split(\n",
    "    iris.iloc[:, :-1],\n",
    "    iris.iloc[:, -1],\n",
    "    test_size=0.20\n",
    ")\n",
    "model = KNeighborsClassifier(n_neighbors=10)\n",
    "model.fit(x_train, y_train)\n",
    "y_pred = model.predict(x_test)\n",
    "plt.figure(figsize=(10, 7))\n",
    "sns.scatterplot(\n",
    "    data=iris,\n",
    "    x='petal_width', y='petal_length',\n",
    "    hue='species',\n",
    "    s=70\n",
    ")\n",
    "plt.xlabel('Длина лепестка, см')\n",
    "plt.ylabel('Ширина лепестка, см')\n",
    "plt.legend(loc=2)\n",
    "plt.grid()\n",
    "\n",
    "for i in range(len(y_test)):\n",
    "    if np.array(y_test)[i] != y_pred[i]:\n",
    "        plt.scatter(x_test.iloc[i, 3], x_test.iloc[i, 2], color='red', s=150)\n",
    "\n",
    "print(f'accuracy: {accuracy_score(y_test, y_pred) :.3}')"
   ],
   "metadata": {
    "collapsed": false
   }
  },
  {
   "cell_type": "markdown",
   "source": [
    "3.1. Теоретический материал – Работа с категориальными\n",
    "данными\n",
    "Работа с категориальными данными\n",
    "Часто бывает полезно разбивать объекты на категории не по\n",
    "количеству, а по качеству. Эта качественная информация нередко\n",
    "представляется как принадлежность наблюдения к отдельной категории,\n",
    "такой как пол, цвета или марка автомобиля. Однако не все категориальные\n",
    "данные одинаковые. Наборы категорий без внутреннего упорядочения\n",
    "называются номинальными. Примеры номинальных категорий включают:\n",
    " синий, красный, зеленый;\n",
    " мужчина, женщина;\n",
    " банан, клубника, яблоко.\n",
    "С другой стороны, когда набор категорий имеет некое естественное\n",
    "упорядочение, мы называем его порядковым. Например:\n",
    " низкий, средний, высокий;\n",
    " молодые, старые;\n",
    " согласен, нейтрален, не согласен.\n",
    "Более того, категориальная информация часто представлена в данных\n",
    "в виде вектора или столбца символьных значений (например, \"Москва\",\n",
    "\"Санкт-Петербург\", \"Казань\"). Проблема в том, что большинство машиннообучающихся алгоритмов требуют ввода числовых значений.\n",
    "Алгоритм k ближайших соседей предоставляет простой пример.\n",
    "Одним из шагов в алгоритме является вычисление расстояний между\n",
    "наблюдениями — часто с использованием евклидова расстояния. Однако\n",
    "вычисление расстояния, очевидно, невозможно, если значение х, является\n",
    "строковым типом (например, \"Москва\"). Для того чтобы его можно было\n",
    "ввести в уравнение евклидова расстояния, нам нужно преобразовать это\n",
    "строковое значение в числовой формат. Наша цель — сделать\n",
    "преобразование, которое правильно передает информацию в категориях\n",
    "(упорядоченность, относительные интервалы между категориями и т. д.).\n",
    "Существует большое количество методов кодирования категориальных\n",
    "данных, среди которых нет универсальных. Выбирая метод, стоит\n",
    "отталкиваться от ваших данных, мощности множества категорий и\n",
    "алгоритма машинного обучения.\n",
    "Далее рассмотрим некоторые методы таких преобразований."
   ],
   "metadata": {
    "collapsed": false
   }
  },
  {
   "cell_type": "markdown",
   "source": [
    "3.2.1. Пример\n",
    "Дан порядковый категориальный признак (например, высокий, средний,\n",
    "низкий). Выполнить его кодировку.\n",
    "Для решения задачи можно использовать метод replace фрейма данных\n",
    "pandas для преобразования строковых меток в числовые эквиваленты"
   ],
   "metadata": {
    "collapsed": false
   }
  },
  {
   "cell_type": "code",
   "execution_count": 68,
   "outputs": [
    {
     "data": {
      "text/plain": "0    1\n1    2\n2    2\n3    3\nName: оценка, dtype: int64"
     },
     "execution_count": 68,
     "metadata": {},
     "output_type": "execute_result"
    }
   ],
   "source": [
    "import pandas as pd\n",
    "\n",
    "dataframe = pd.DataFrame({'оценка': ['низкая', 'средняя', 'средняя', 'высокая']})\n",
    "scale_mapper = {'низкая': 1, 'средняя': 2, 'высокая': 3}\n",
    "dataframe['оценка'].replace(scale_mapper)"
   ],
   "metadata": {
    "collapsed": false
   }
  },
  {
   "cell_type": "markdown",
   "source": [
    "3.2.2. Пример\n",
    "Задача:\n",
    "Дан словарь, и требуется его конвертировать в матрицу признаков.\n",
    "Для решения задачи можно задействовать класс-векторизатор словаря\n",
    "Dictvectorizer:"
   ],
   "metadata": {
    "collapsed": false
   }
  },
  {
   "cell_type": "code",
   "execution_count": 73,
   "outputs": [
    {
     "name": "stdout",
     "output_type": "stream",
     "text": [
      "[[4. 2. 0.]\n",
      " [3. 4. 0.]\n",
      " [0. 1. 2.]\n",
      " [0. 2. 2.]]\n"
     ]
    }
   ],
   "source": [
    "from sklearn.feature_extraction import DictVectorizer\n",
    "\n",
    "data_dict = [\n",
    "    {'red': 2, 'blue': 4},\n",
    "    {'red': 4, 'blue': 3},\n",
    "    {'red': 1, 'yellow': 2},\n",
    "    {'red': 2, 'yellow': 2}\n",
    "]\n",
    "dict_vectorizer = DictVectorizer(sparse=False)\n",
    "features = dict_vectorizer.fit_transform(data_dict)\n",
    "print(features)"
   ],
   "metadata": {
    "collapsed": false
   }
  },
  {
   "cell_type": "markdown",
   "source": [
    "3.3.2 Задание\n",
    "Определите набор признаков человека, по аналогии из РТ 1, – например,\n",
    "цвет глаз и конвертируйте его в матрицу признаков."
   ],
   "metadata": {
    "collapsed": false
   }
  },
  {
   "cell_type": "code",
   "execution_count": 2,
   "outputs": [
    {
     "name": "stdout",
     "output_type": "stream",
     "text": [
      "[[2. 0. 0. 0. 4. 0. 0. 0.]\n",
      " [0. 4. 0. 0. 0. 0. 0. 3.]\n",
      " [0. 0. 2. 1. 0. 0. 0. 0.]\n",
      " [0. 2. 2. 0. 0. 0. 0. 0.]\n",
      " [4. 0. 0. 0. 0. 0. 0. 2.]\n",
      " [0. 0. 0. 0. 0. 2. 4. 0.]\n",
      " [0. 0. 0. 4. 2. 0. 0. 0.]]\n"
     ]
    }
   ],
   "source": [
    "from sklearn.feature_extraction import DictVectorizer\n",
    "\n",
    "eye_color_dict = [\n",
    "    {'agate': 2, 'nordic': 4},\n",
    "    {'blue_star': 4, 'vale': 3},\n",
    "    {'lapis': 1, 'ebony': 2},\n",
    "    {'ebony': 2, 'blue_star': 2},\n",
    "    {'vale': 2, 'agate': 4},\n",
    "    {'serene': 2, 'teak_wood': 4},\n",
    "    {'nordic': 2, 'lapis': 4},\n",
    "]\n",
    "dict_vectorizer = DictVectorizer(sparse=False)\n",
    "features = dict_vectorizer.fit_transform(eye_color_dict)\n",
    "print(features)"
   ],
   "metadata": {
    "collapsed": false
   }
  }
 ],
 "metadata": {
  "kernelspec": {
   "display_name": "Python 3",
   "language": "python",
   "name": "python3"
  },
  "language_info": {
   "codemirror_mode": {
    "name": "ipython",
    "version": 2
   },
   "file_extension": ".py",
   "mimetype": "text/x-python",
   "name": "python",
   "nbconvert_exporter": "python",
   "pygments_lexer": "ipython2",
   "version": "2.7.6"
  }
 },
 "nbformat": 4,
 "nbformat_minor": 0
}
